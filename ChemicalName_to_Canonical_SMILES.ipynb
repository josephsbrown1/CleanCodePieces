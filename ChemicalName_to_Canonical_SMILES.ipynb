{
 "cells": [
  {
   "cell_type": "code",
   "execution_count": 6,
   "metadata": {},
   "outputs": [],
   "source": [
    "import requests\n",
    "from rdkit import Chem"
   ]
  },
  {
   "cell_type": "code",
   "execution_count": 7,
   "metadata": {},
   "outputs": [],
   "source": [
    "def get_smiles_from_name(chemical_name):\n",
    "    # Convert chemical name to SMILES using PubChem\n",
    "    base_url = \"https://pubchem.ncbi.nlm.nih.gov/rest/pug\"\n",
    "    input_url = f\"{base_url}/compound/name/{chemical_name}/property/CanonicalSMILES/JSON\"\n",
    "    \n",
    "    response = requests.get(input_url)\n",
    "    if response.status_code != 200:\n",
    "        return None\n",
    "\n",
    "    data = response.json()\n",
    "    if 'PropertyTable' not in data or 'Properties' not in data['PropertyTable']:\n",
    "        return None\n",
    "\n",
    "    smiles = data['PropertyTable']['Properties'][0]['CanonicalSMILES']\n",
    "    return smiles\n",
    "\n",
    "def canonicalize_smiles(smiles):\n",
    "    molecule = Chem.MolFromSmiles(smiles)\n",
    "    if molecule is None:\n",
    "        return None\n",
    "    canonical_smiles = Chem.MolToSmiles(molecule, canonical=True)\n",
    "    return canonical_smiles\n",
    "\n",
    "def get_canonical_smiles_from_name(chemical_name):\n",
    "    smiles = get_smiles_from_name(chemical_name)\n",
    "    if not smiles:\n",
    "        return f\"Error: Unable to retrieve SMILES for {chemical_name}\"\n",
    "\n",
    "    canonical_smiles = canonicalize_smiles(smiles)\n",
    "    if not canonical_smiles:\n",
    "        return f\"Error: Unable to canonicalize SMILES for {chemical_name}\"\n",
    "\n",
    "    return canonical_smiles"
   ]
  },
  {
   "cell_type": "code",
   "execution_count": 8,
   "metadata": {},
   "outputs": [
    {
     "name": "stdout",
     "output_type": "stream",
     "text": [
      "The canonical SMILES for 2-propanol is: CC(C)O\n",
      "The canonical SMILES for isopropanol is: CC(C)O\n",
      "The canonical SMILES for n-propan-2-ol is: CC(C)O\n"
     ]
    }
   ],
   "source": [
    "chemical_names = [\"2-propanol\", \"isopropanol\", \"n-propan-2-ol\"]\n",
    "canonical_smiles = {name: get_canonical_smiles_from_name(name) for name in chemical_names}\n",
    "\n",
    "for name, smiles in canonical_smiles.items():\n",
    "    print(f\"The canonical SMILES for {name} is: {smiles}\")"
   ]
  },
  {
   "cell_type": "code",
   "execution_count": 12,
   "metadata": {},
   "outputs": [
    {
     "name": "stdout",
     "output_type": "stream",
     "text": [
      "Common name: Ethanol\n",
      "  Ethanol: CCO\n",
      "  Ethyl alcohol: CCO\n",
      "  Grain alcohol: CCO\n",
      "\n",
      "Common name: Acetaminophen\n",
      "  Acetaminophen: CC(=O)Nc1ccc(O)cc1\n",
      "  Paracetamol: CC(=O)Nc1ccc(O)cc1\n",
      "  APAP: CC(=O)Nc1ccc(O)cc1\n",
      "  Tylenol: CC(=O)Nc1ccc(O)cc1\n",
      "\n",
      "Common name: Sodium bicarbonate\n",
      "  Sodium bicarbonate: O=C([O-])O.[Na+]\n",
      "  Baking soda: O=C([O-])O.[Na+]\n",
      "  Bicarbonate of soda: O=C([O-])O.[Na+]\n",
      "\n",
      "Common name: Aspirin\n",
      "  Aspirin: CC(=O)Oc1ccccc1C(=O)O\n",
      "  Acetylsalicylic acid: CC(=O)Oc1ccccc1C(=O)O\n",
      "  ASA: CC(=O)Oc1ccccc1C(=O)O\n",
      "\n",
      "Common name: Methanol\n",
      "  Methanol: CO\n",
      "  Methyl alcohol: CO\n",
      "  Wood alcohol: CO\n",
      "\n",
      "Common name: Isopropanol\n",
      "  Isopropanol: CC(C)O\n",
      "  Isopropyl alcohol: CC(C)O\n",
      "  2-propanol: CC(C)O\n",
      "  Rubbing alcohol: CC(C)O\n",
      "\n",
      "Common name: Glucose\n",
      "  Glucose: OCC1OC(O)C(O)C(O)C1O\n",
      "  Dextrose: OCC1OC(O)C(O)C(O)C1O\n",
      "  Grape sugar: OCC1OC(O)C(O)C(O)C1O\n",
      "\n",
      "Common name: Sodium chloride\n",
      "  Sodium chloride: [Cl-].[Na+]\n",
      "  Table salt: [Cl-].[Na+]\n",
      "  Halite: [Cl-].[Na+]\n",
      "  NaCl: [Cl-].[Na+]\n",
      "\n",
      "Common name: Acetic acid\n",
      "  Acetic acid: CC(=O)O\n",
      "  Ethanoic acid: CC(=O)O\n",
      "  Vinegar: CC(=O)O\n",
      "\n"
     ]
    }
   ],
   "source": [
    "# Dictionary of chemical names to trouble shoot and verify the function of the functions above\n",
    "chemical_names = {\n",
    "    \"Ethanol\": [\"Ethanol\", \"Ethyl alcohol\", \"Grain alcohol\"],\n",
    "    \"Acetaminophen\": [\"Acetaminophen\", \"Paracetamol\", \"APAP\", \"Tylenol\"],\n",
    "    \"Sodium bicarbonate\": [\"Sodium bicarbonate\", \"Baking soda\", \"Bicarbonate of soda\"],\n",
    "    \"Aspirin\": [\"Aspirin\", \"Acetylsalicylic acid\", \"ASA\"],\n",
    "    \"Methanol\": [\"Methanol\", \"Methyl alcohol\", \"Wood alcohol\"],\n",
    "    \"Isopropanol\": [\"Isopropanol\", \"Isopropyl alcohol\", \"2-propanol\", \"Rubbing alcohol\"],\n",
    "    \"Glucose\": [\"Glucose\", \"Dextrose\", \"Grape sugar\"],\n",
    "    \"Sodium chloride\": [\"Sodium chloride\", \"Table salt\", \"Halite\", \"NaCl\"],\n",
    "    \"Acetic acid\": [\"Acetic acid\", \"Ethanoic acid\", \"Vinegar\"]\n",
    "}\n",
    "\n",
    "# Dictionary to store canonical SMILES\n",
    "canonical_smiles = {}\n",
    "\n",
    "# Populating canonical_smiles\n",
    "for common_name, names in chemical_names.items():\n",
    "    for name in names:\n",
    "        canonical_smiles[name] = get_canonical_smiles_from_name(name)\n",
    "\n",
    "# Reporting part\n",
    "for common_name, names in chemical_names.items():\n",
    "    print(f\"Common name: {common_name}\")\n",
    "    for name in names:\n",
    "        smiles = canonical_smiles.get(name, \"Error: SMILES not found\")\n",
    "        print(f\"  {name}: {smiles}\")\n",
    "    print()\n"
   ]
  },
  {
   "cell_type": "markdown",
   "metadata": {},
   "source": [
    "## Known limitations of this code: The molecular-to-SMILES code above cannot handle molecular formulas (e.g., CH3CH2OH)"
   ]
  },
  {
   "cell_type": "code",
   "execution_count": 16,
   "metadata": {},
   "outputs": [
    {
     "name": "stdout",
     "output_type": "stream",
     "text": [
      "Common name: Sodium bicarbonate\n",
      "  Sodium bicarbonate: O=C([O-])O.[Na+]\n",
      "  Baking soda: O=C([O-])O.[Na+]\n",
      "  Bicarbonate of soda: O=C([O-])O.[Na+]\n",
      "  NaHCO₃: Error: Unable to retrieve SMILES for NaHCO₃\n",
      "\n",
      "Common name: Acetic acid\n",
      "  Acetic acid: CC(=O)O\n",
      "  Ethanoic acid: CC(=O)O\n",
      "  Vinegar: CC(=O)O\n",
      "  CH₃COOH: Error: Unable to retrieve SMILES for CH₃COOH\n",
      "\n"
     ]
    }
   ],
   "source": [
    "# Example of known limitation\n",
    "chemical_names = {\n",
    "    \"Sodium bicarbonate\": [\"Sodium bicarbonate\", \"Baking soda\", \"Bicarbonate of soda\", \"NaHCO₃\"],\n",
    "    \"Acetic acid\": [\"Acetic acid\", \"Ethanoic acid\", \"Vinegar\", \"CH₃COOH\"],\n",
    "}\n",
    "\n",
    "# Dictionary to store canonical SMILES\n",
    "canonical_smiles = {}\n",
    "\n",
    "# Populating canonical_smiles\n",
    "for common_name, names in chemical_names.items():\n",
    "    for name in names:\n",
    "        canonical_smiles[name] = get_canonical_smiles_from_name(name)\n",
    "\n",
    "# Reporting part\n",
    "for common_name, names in chemical_names.items():\n",
    "    print(f\"Common name: {common_name}\")\n",
    "    for name in names:\n",
    "        smiles = canonical_smiles.get(name, \"Error: SMILES not found\")\n",
    "        print(f\"  {name}: {smiles}\")\n",
    "    print()"
   ]
  },
  {
   "cell_type": "code",
   "execution_count": null,
   "metadata": {},
   "outputs": [],
   "source": []
  },
  {
   "cell_type": "code",
   "execution_count": null,
   "metadata": {},
   "outputs": [],
   "source": []
  }
 ],
 "metadata": {
  "kernelspec": {
   "display_name": "base",
   "language": "python",
   "name": "python3"
  },
  "language_info": {
   "codemirror_mode": {
    "name": "ipython",
    "version": 3
   },
   "file_extension": ".py",
   "mimetype": "text/x-python",
   "name": "python",
   "nbconvert_exporter": "python",
   "pygments_lexer": "ipython3",
   "version": "3.11.7"
  }
 },
 "nbformat": 4,
 "nbformat_minor": 2
}
